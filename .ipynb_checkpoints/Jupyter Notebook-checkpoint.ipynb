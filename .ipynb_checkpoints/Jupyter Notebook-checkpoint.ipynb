{
 "cells": [
  {
   "cell_type": "markdown",
   "metadata": {},
   "source": [
    "# Web Scrapping \n",
    "We start scrapping the neighborhood data from the wikipedia page"
   ]
  },
  {
   "cell_type": "code",
   "execution_count": 1,
   "metadata": {},
   "outputs": [],
   "source": [
    "#Load the packages required to scrap the data\n",
    "from bs4 import BeautifulSoup\n",
    "import requests"
   ]
  },
  {
   "cell_type": "code",
   "execution_count": 2,
   "metadata": {},
   "outputs": [],
   "source": [
    "page_link='https://en.wikipedia.org/wiki/List_of_postal_codes_of_Canada:_M'"
   ]
  },
  {
   "cell_type": "code",
   "execution_count": 3,
   "metadata": {},
   "outputs": [],
   "source": [
    "page_response=requests.get(page_link,timeout=5)\n",
    "page_content=BeautifulSoup(page_response.content,\"html.parser\")"
   ]
  },
  {
   "cell_type": "code",
   "execution_count": 4,
   "metadata": {},
   "outputs": [],
   "source": [
    "#print(page_content.prettify())"
   ]
  },
  {
   "cell_type": "code",
   "execution_count": 5,
   "metadata": {
    "scrolled": false
   },
   "outputs": [],
   "source": [
    "table_content=page_content.find('table',class_='wikitable sortable')\n",
    "#print(table_content.prettify())"
   ]
  },
  {
   "cell_type": "code",
   "execution_count": 6,
   "metadata": {},
   "outputs": [
    {
     "name": "stdout",
     "output_type": "stream",
     "text": [
      "  PostalCode       Borough     Neighbourhood\n",
      "0        NaN           NaN               NaN\n",
      "1        M1A  Not assigned      Not assigned\n",
      "2        M2A  Not assigned      Not assigned\n",
      "3        M3A    North York         Parkwoods\n",
      "4        M4A    North York  Victoria Village\n",
      "(289, 3)\n"
     ]
    }
   ],
   "source": [
    "#Create a pandas dataframe\n",
    "import pandas as pd\n",
    "column_names=['PostalCode','Borough','Neighbourhood']\n",
    "\n",
    "\n",
    "#Parsing the data stored in the table\n",
    "Raw_table=table_content.find_all('tr')\n",
    "\n",
    "#Define size of table using the number of raws obtained\n",
    "length=len(Raw_table)\n",
    "Toronto=pd.DataFrame(index=range(0,length), columns=column_names)\n",
    "\n",
    "row_num=0\n",
    "for row_value in Raw_table:\n",
    "    row_values=row_value.find_all('td')\n",
    "    column_num=0\n",
    "    for value in row_values:\n",
    "        text=value.get_text()\n",
    "        text=text.replace('\\n', '')\n",
    "        Toronto.iat[row_num,column_num]=text\n",
    "        column_num=column_num+1\n",
    "    row_num=row_num+1\n",
    "\n",
    "print(Toronto.head())\n",
    "print(Toronto.shape)"
   ]
  },
  {
   "cell_type": "markdown",
   "metadata": {},
   "source": [
    "# Data filtering\n",
    "#### We proceed to clean the data as specified:\n",
    "1- Only process the cells that have an assigned borough. Ignore cells with a borough that is Not assigned.\n",
    "\n",
    "2- More than one neighborhood can exist in one postal code area.These two rows will be combined into one row with the neighborhoods separated with a comma.\n",
    "\n",
    "3- If a cell has a borough but a Not assigned neighborhood, then the neighborhood will be the same as the borough."
   ]
  },
  {
   "cell_type": "markdown",
   "metadata": {},
   "source": [
    "### Condition number 1"
   ]
  },
  {
   "cell_type": "code",
   "execution_count": 7,
   "metadata": {},
   "outputs": [
    {
     "name": "stdout",
     "output_type": "stream",
     "text": [
      "Number of rows meeting condition Borough is 'Not assigned': 77\n"
     ]
    }
   ],
   "source": [
    "#Calculate index meet the condition\n",
    "Toronto.dropna(axis=0, inplace=True)\n",
    "\n",
    "Index_Notassigned=Toronto[Toronto['Borough']=='Not assigned'].index.values\n",
    "print(\"Number of rows meeting condition Borough is 'Not assigned':\",len(Index_Notassigned))"
   ]
  },
  {
   "cell_type": "code",
   "execution_count": 8,
   "metadata": {},
   "outputs": [
    {
     "name": "stdout",
     "output_type": "stream",
     "text": [
      "The number of rows that have been deleted are: 77\n"
     ]
    }
   ],
   "source": [
    "\n",
    "Num=0\n",
    "#Eliminate the ones with text=Not assigned.\n",
    "for values in Index_Notassigned:\n",
    "    Toronto.drop([values],axis=0,inplace=True)\n",
    "    Num=Num+1\n",
    "print(\"The number of rows that have been deleted are:\",Num)\n"
   ]
  },
  {
   "cell_type": "markdown",
   "metadata": {},
   "source": [
    "### Condition number 3"
   ]
  },
  {
   "cell_type": "code",
   "execution_count": 9,
   "metadata": {},
   "outputs": [
    {
     "name": "stdout",
     "output_type": "stream",
     "text": [
      "Number of rows meeting condition Neighbourhood is 'Not assigned': 1\n"
     ]
    }
   ],
   "source": [
    "Index_Notassigned2=Toronto[Toronto['Neighbourhood']=='Not assigned'].index.values\n",
    "print(\"Number of rows meeting condition Neighbourhood is 'Not assigned':\",len(Index_Notassigned2))"
   ]
  },
  {
   "cell_type": "code",
   "execution_count": 10,
   "metadata": {},
   "outputs": [
    {
     "name": "stdout",
     "output_type": "stream",
     "text": [
      "The number of rows that have been deleted are: 1\n"
     ]
    }
   ],
   "source": [
    "Num=0\n",
    "for values in Index_Notassigned2:\n",
    "    Toronto.drop([values],axis=0,inplace=True)\n",
    "    Num=Num+1\n",
    "print(\"The number of rows that have been deleted are:\",Num)"
   ]
  },
  {
   "cell_type": "code",
   "execution_count": 23,
   "metadata": {
    "scrolled": true
   },
   "outputs": [
    {
     "name": "stdout",
     "output_type": "stream",
     "text": [
      "  PostalCode           Borough     Neighbourhood\n",
      "3        M3A        North York         Parkwoods\n",
      "4        M4A        North York  Victoria Village\n",
      "5        M5A  Downtown Toronto      Harbourfront\n",
      "6        M5A  Downtown Toronto       Regent Park\n",
      "7        M6A        North York  Lawrence Heights\n",
      "(210, 3)\n"
     ]
    }
   ],
   "source": [
    "print(Toronto.head())\n",
    "print(Toronto.shape)"
   ]
  },
  {
   "cell_type": "markdown",
   "metadata": {},
   "source": [
    "### Condition number 2"
   ]
  },
  {
   "cell_type": "code",
   "execution_count": 29,
   "metadata": {},
   "outputs": [
    {
     "name": "stdout",
     "output_type": "stream",
     "text": [
      "PostalCode\n",
      "M1B                                        Rouge,Malvern\n",
      "M1C                 Highland Creek,Rouge Hill,Port Union\n",
      "M1E                      Guildwood,Morningside,West Hill\n",
      "M1G                                               Woburn\n",
      "M1H                                            Cedarbrae\n",
      "M1J                                  Scarborough Village\n",
      "M1K            East Birchmount Park,Ionview,Kennedy Park\n",
      "M1L                        Clairlea,Golden Mile,Oakridge\n",
      "M1M        Cliffcrest,Cliffside,Scarborough Village West\n",
      "M1N                           Birch Cliff,Cliffside West\n",
      "M1P    Dorset Park,Scarborough Town Centre,Wexford He...\n",
      "M1R                                     Maryvale,Wexford\n",
      "M1S                                            Agincourt\n",
      "M1T                Clarks Corners,Sullivan,Tam O'Shanter\n",
      "M1V    Agincourt North,L'Amoreaux East,Milliken,Steel...\n",
      "M1W                                      L'Amoreaux West\n",
      "M1X                                          Upper Rouge\n",
      "M2H                                    Hillcrest Village\n",
      "M2J                           Fairview,Henry Farm,Oriole\n",
      "M2K                                      Bayview Village\n",
      "M2L                              Silver Hills,York Mills\n",
      "M2M                               Newtonbrook,Willowdale\n",
      "M2N                                     Willowdale South\n",
      "M2P                                      York Mills West\n",
      "M2R                                      Willowdale West\n",
      "M3A                                            Parkwoods\n",
      "M3B                                      Don Mills North\n",
      "M3C                      Flemingdon Park,Don Mills South\n",
      "M3H        Bathurst Manor,Downsview North,Wilson Heights\n",
      "M3J                       Northwood Park,York University\n",
      "                             ...                        \n",
      "M6B                                            Glencairn\n",
      "M6C                                   Humewood-Cedarvale\n",
      "M6E                                  Caledonia-Fairbanks\n",
      "M6G                                             Christie\n",
      "M6H                          Dovercourt Village,Dufferin\n",
      "M6J                              Little Portugal,Trinity\n",
      "M6K           Brockton,Exhibition Place,Parkdale Village\n",
      "M6L                     Downsview,North Park,Upwood Park\n",
      "M6M          Del Ray,Keelesdale,Mount Dennis,Silverthorn\n",
      "M6N                         The Junction North,Runnymede\n",
      "M6P                         High Park,The Junction South\n",
      "M6R                                Parkdale,Roncesvalles\n",
      "M6S                                    Runnymede,Swansea\n",
      "M7R                Canada Post Gateway Processing Centre\n",
      "M7Y    Business Reply Mail Processing Centre 969 Eastern\n",
      "M8V           Humber Bay Shores,Mimico South,New Toronto\n",
      "M8W                                Alderwood,Long Branch\n",
      "M8X          The Kingsway,Montgomery Road,Old Mill North\n",
      "M8Y    Humber Bay,King's Mill Park,Kingsway Park Sout...\n",
      "M8Z    Kingsway Park South West,Mimico NW,The Queensw...\n",
      "M9A                                     Islington Avenue\n",
      "M9B    Cloverdale,Islington,Martin Grove,Princess Gar...\n",
      "M9C    Bloordale Gardens,Eringate,Markland Wood,Old B...\n",
      "M9L                                        Humber Summit\n",
      "M9M                                      Emery,Humberlea\n",
      "M9N                                               Weston\n",
      "M9P                                            Westmount\n",
      "M9R    Kingsview Village,Martin Grove Gardens,Richvie...\n",
      "M9V    Albion Gardens,Beaumond Heights,Humbergate,Jam...\n",
      "M9W                                            Northwest\n",
      "Name: Neighbourhood, Length: 102, dtype: object\n"
     ]
    }
   ],
   "source": [
    "\n",
    "#group the data by PostalCode\n",
    "List=Toronto.groupby(\"PostalCode\")['Neighbourhood'].apply(lambda Neighbourhood: ','.join(Neighbourhood))\n",
    "print(List)"
   ]
  },
  {
   "cell_type": "code",
   "execution_count": 27,
   "metadata": {},
   "outputs": [
    {
     "name": "stdout",
     "output_type": "stream",
     "text": [
      "PostalCode\n",
      "M1B                           Rouge,Malvern\n",
      "M1C    Highland Creek,Rouge Hill,Port Union\n",
      "M1E         Guildwood,Morningside,West Hill\n",
      "M1G                                  Woburn\n",
      "M1H                               Cedarbrae\n",
      "Name: Neighbourhood, dtype: object\n",
      "(102,)\n"
     ]
    }
   ],
   "source": [
    "print(Toronto.head())\n",
    "print(Toronto.shape)"
   ]
  },
  {
   "cell_type": "code",
   "execution_count": null,
   "metadata": {},
   "outputs": [],
   "source": []
  },
  {
   "cell_type": "code",
   "execution_count": null,
   "metadata": {},
   "outputs": [],
   "source": []
  },
  {
   "cell_type": "code",
   "execution_count": null,
   "metadata": {},
   "outputs": [],
   "source": []
  }
 ],
 "metadata": {
  "kernelspec": {
   "display_name": "Python 3",
   "language": "python",
   "name": "python3"
  },
  "language_info": {
   "codemirror_mode": {
    "name": "ipython",
    "version": 3
   },
   "file_extension": ".py",
   "mimetype": "text/x-python",
   "name": "python",
   "nbconvert_exporter": "python",
   "pygments_lexer": "ipython3",
   "version": "3.7.0"
  }
 },
 "nbformat": 4,
 "nbformat_minor": 2
}
