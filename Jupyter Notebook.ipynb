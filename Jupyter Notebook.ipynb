{
 "cells": [
  {
   "cell_type": "markdown",
   "metadata": {},
   "source": [
    "# Web Scrapping \n",
    "We start scrapping the neighborhood data from the wikipedia page"
   ]
  },
  {
   "cell_type": "code",
   "execution_count": 1,
   "metadata": {},
   "outputs": [],
   "source": [
    "#Load the packages required to scrap the data\n",
    "from bs4 import BeautifulSoup\n",
    "import requests"
   ]
  },
  {
   "cell_type": "code",
   "execution_count": 2,
   "metadata": {},
   "outputs": [],
   "source": [
    "page_link='https://en.wikipedia.org/wiki/List_of_postal_codes_of_Canada:_M'"
   ]
  },
  {
   "cell_type": "code",
   "execution_count": 3,
   "metadata": {},
   "outputs": [],
   "source": [
    "page_response=requests.get(page_link,timeout=5)\n",
    "page_content=BeautifulSoup(page_response.content,\"html.parser\")"
   ]
  },
  {
   "cell_type": "code",
   "execution_count": 4,
   "metadata": {},
   "outputs": [],
   "source": [
    "#print(page_content.prettify())"
   ]
  },
  {
   "cell_type": "code",
   "execution_count": 5,
   "metadata": {
    "scrolled": false
   },
   "outputs": [],
   "source": [
    "table_content=page_content.find('table',class_='wikitable sortable')\n",
    "#print(table_content.prettify())"
   ]
  },
  {
   "cell_type": "code",
   "execution_count": 6,
   "metadata": {},
   "outputs": [
    {
     "name": "stdout",
     "output_type": "stream",
     "text": [
      "  PostalCode       Borough     Neighbourhood\n",
      "0        NaN           NaN               NaN\n",
      "1        M1A  Not assigned      Not assigned\n",
      "2        M2A  Not assigned      Not assigned\n",
      "3        M3A    North York         Parkwoods\n",
      "4        M4A    North York  Victoria Village\n",
      "(289, 3)\n"
     ]
    }
   ],
   "source": [
    "#Create a pandas dataframe\n",
    "import pandas as pd\n",
    "column_names=['PostalCode','Borough','Neighbourhood']\n",
    "\n",
    "\n",
    "#Parsing the data stored in the table\n",
    "Raw_table=table_content.find_all('tr')\n",
    "\n",
    "#Define size of table using the number of raws obtained\n",
    "length=len(Raw_table)\n",
    "Toronto=pd.DataFrame(index=range(0,length), columns=column_names)\n",
    "\n",
    "row_num=0\n",
    "for row_value in Raw_table:\n",
    "    row_values=row_value.find_all('td')\n",
    "    column_num=0\n",
    "    for value in row_values:\n",
    "        text=value.get_text()\n",
    "        text=text.replace('\\n', '')\n",
    "        Toronto.iat[row_num,column_num]=text\n",
    "        column_num=column_num+1\n",
    "    row_num=row_num+1\n",
    "\n",
    "print(Toronto.head())\n",
    "print(Toronto.shape)"
   ]
  },
  {
   "cell_type": "markdown",
   "metadata": {},
   "source": [
    "# Data filtering\n",
    "#### We proceed to clean the data as specified:\n",
    "1- Only process the cells that have an assigned borough. Ignore cells with a borough that is Not assigned.\n",
    "\n",
    "2- More than one neighborhood can exist in one postal code area.These two rows will be combined into one row with the neighborhoods separated with a comma.\n",
    "\n",
    "3- If a cell has a borough but a Not assigned neighborhood, then the neighborhood will be the same as the borough."
   ]
  },
  {
   "cell_type": "markdown",
   "metadata": {},
   "source": [
    "### Condition number 1"
   ]
  },
  {
   "cell_type": "code",
   "execution_count": 7,
   "metadata": {},
   "outputs": [
    {
     "name": "stdout",
     "output_type": "stream",
     "text": [
      "Number of rows meeting condition Borough is 'Not assigned': 77\n"
     ]
    }
   ],
   "source": [
    "#Calculate index meet the condition\n",
    "Toronto.dropna(axis=0, inplace=True)\n",
    "\n",
    "Index_Notassigned=Toronto[Toronto['Borough']=='Not assigned'].index.values\n",
    "print(\"Number of rows meeting condition Borough is 'Not assigned':\",len(Index_Notassigned))"
   ]
  },
  {
   "cell_type": "code",
   "execution_count": 8,
   "metadata": {},
   "outputs": [
    {
     "name": "stdout",
     "output_type": "stream",
     "text": [
      "The number of rows that have been deleted are: 77\n"
     ]
    }
   ],
   "source": [
    "\n",
    "Num=0\n",
    "#Eliminate the ones with text=Not assigned.\n",
    "for values in Index_Notassigned:\n",
    "    Toronto.drop([values],axis=0,inplace=True)\n",
    "    Num=Num+1\n",
    "print(\"The number of rows that have been deleted are:\",Num)\n"
   ]
  },
  {
   "cell_type": "markdown",
   "metadata": {},
   "source": [
    "### Condition number 3"
   ]
  },
  {
   "cell_type": "code",
   "execution_count": 9,
   "metadata": {},
   "outputs": [
    {
     "name": "stdout",
     "output_type": "stream",
     "text": [
      "Number of rows meeting condition Neighbourhood is 'Not assigned': 1\n"
     ]
    }
   ],
   "source": [
    "Index_Notassigned2=Toronto[Toronto['Neighbourhood']=='Not assigned'].index.values\n",
    "print(\"Number of rows meeting condition Neighbourhood is 'Not assigned':\",len(Index_Notassigned2))"
   ]
  },
  {
   "cell_type": "code",
   "execution_count": 10,
   "metadata": {},
   "outputs": [
    {
     "name": "stdout",
     "output_type": "stream",
     "text": [
      "The number of rows that have been deleted are: 1\n"
     ]
    }
   ],
   "source": [
    "Num=0\n",
    "for values in Index_Notassigned2:\n",
    "    Toronto.drop([values],axis=0,inplace=True)\n",
    "    Num=Num+1\n",
    "print(\"The number of rows that have been deleted are:\",Num)"
   ]
  },
  {
   "cell_type": "code",
   "execution_count": 23,
   "metadata": {
    "scrolled": true
   },
   "outputs": [
    {
     "name": "stdout",
     "output_type": "stream",
     "text": [
      "  PostalCode           Borough     Neighbourhood\n",
      "3        M3A        North York         Parkwoods\n",
      "4        M4A        North York  Victoria Village\n",
      "5        M5A  Downtown Toronto      Harbourfront\n",
      "6        M5A  Downtown Toronto       Regent Park\n",
      "7        M6A        North York  Lawrence Heights\n",
      "(210, 3)\n"
     ]
    }
   ],
   "source": [
    "print(Toronto.head())\n",
    "print(Toronto.shape)"
   ]
  },
  {
   "cell_type": "markdown",
   "metadata": {},
   "source": [
    "### Condition number 2"
   ]
  },
  {
   "cell_type": "code",
   "execution_count": 41,
   "metadata": {},
   "outputs": [],
   "source": [
    "df=Toronto\n",
    "#group the data by PostalCode\n",
    "df['Neighbourhood']=df[['PostalCode','Borough','Neighbourhood']].groupby(['PostalCode','Borough'])['Neighbourhood'].transform(lambda x: ','.join(x))\n",
    "Toronto=df[['PostalCode','Borough','Neighbourhood']].drop_duplicates()"
   ]
  },
  {
   "cell_type": "markdown",
   "metadata": {},
   "source": [
    "## Resulting table with filtered data"
   ]
  },
  {
   "cell_type": "code",
   "execution_count": 42,
   "metadata": {},
   "outputs": [
    {
     "data": {
      "text/html": [
       "<div>\n",
       "<style scoped>\n",
       "    .dataframe tbody tr th:only-of-type {\n",
       "        vertical-align: middle;\n",
       "    }\n",
       "\n",
       "    .dataframe tbody tr th {\n",
       "        vertical-align: top;\n",
       "    }\n",
       "\n",
       "    .dataframe thead th {\n",
       "        text-align: right;\n",
       "    }\n",
       "</style>\n",
       "<table border=\"1\" class=\"dataframe\">\n",
       "  <thead>\n",
       "    <tr style=\"text-align: right;\">\n",
       "      <th></th>\n",
       "      <th>PostalCode</th>\n",
       "      <th>Borough</th>\n",
       "      <th>Neighbourhood</th>\n",
       "    </tr>\n",
       "  </thead>\n",
       "  <tbody>\n",
       "    <tr>\n",
       "      <th>3</th>\n",
       "      <td>M3A</td>\n",
       "      <td>North York</td>\n",
       "      <td>Parkwoods</td>\n",
       "    </tr>\n",
       "    <tr>\n",
       "      <th>4</th>\n",
       "      <td>M4A</td>\n",
       "      <td>North York</td>\n",
       "      <td>Victoria Village</td>\n",
       "    </tr>\n",
       "    <tr>\n",
       "      <th>5</th>\n",
       "      <td>M5A</td>\n",
       "      <td>Downtown Toronto</td>\n",
       "      <td>Harbourfront,Regent Park,Harbourfront,Regent P...</td>\n",
       "    </tr>\n",
       "    <tr>\n",
       "      <th>7</th>\n",
       "      <td>M6A</td>\n",
       "      <td>North York</td>\n",
       "      <td>Lawrence Heights,Lawrence Manor,Lawrence Heigh...</td>\n",
       "    </tr>\n",
       "    <tr>\n",
       "      <th>11</th>\n",
       "      <td>M9A</td>\n",
       "      <td>Etobicoke</td>\n",
       "      <td>Islington Avenue</td>\n",
       "    </tr>\n",
       "  </tbody>\n",
       "</table>\n",
       "</div>"
      ],
      "text/plain": [
       "   PostalCode           Borough  \\\n",
       "3         M3A        North York   \n",
       "4         M4A        North York   \n",
       "5         M5A  Downtown Toronto   \n",
       "7         M6A        North York   \n",
       "11        M9A         Etobicoke   \n",
       "\n",
       "                                        Neighbourhood  \n",
       "3                                           Parkwoods  \n",
       "4                                    Victoria Village  \n",
       "5   Harbourfront,Regent Park,Harbourfront,Regent P...  \n",
       "7   Lawrence Heights,Lawrence Manor,Lawrence Heigh...  \n",
       "11                                   Islington Avenue  "
      ]
     },
     "execution_count": 42,
     "metadata": {},
     "output_type": "execute_result"
    }
   ],
   "source": [
    "Toronto.head()"
   ]
  },
  {
   "cell_type": "markdown",
   "metadata": {},
   "source": [
    "## Shape of the table\n",
    "The number of Neighbourhoods is equal to the number of rows on the table"
   ]
  },
  {
   "cell_type": "code",
   "execution_count": 43,
   "metadata": {},
   "outputs": [
    {
     "data": {
      "text/plain": [
       "(102, 3)"
      ]
     },
     "execution_count": 43,
     "metadata": {},
     "output_type": "execute_result"
    }
   ],
   "source": [
    "Toronto.shape"
   ]
  },
  {
   "cell_type": "code",
   "execution_count": null,
   "metadata": {},
   "outputs": [],
   "source": []
  },
  {
   "cell_type": "code",
   "execution_count": null,
   "metadata": {},
   "outputs": [],
   "source": []
  }
 ],
 "metadata": {
  "kernelspec": {
   "display_name": "Python 3",
   "language": "python",
   "name": "python3"
  },
  "language_info": {
   "codemirror_mode": {
    "name": "ipython",
    "version": 3
   },
   "file_extension": ".py",
   "mimetype": "text/x-python",
   "name": "python",
   "nbconvert_exporter": "python",
   "pygments_lexer": "ipython3",
   "version": "3.7.0"
  }
 },
 "nbformat": 4,
 "nbformat_minor": 2
}
